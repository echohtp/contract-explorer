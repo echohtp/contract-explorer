{
 "cells": [
  {
   "cell_type": "code",
   "execution_count": 13,
   "metadata": {},
   "outputs": [],
   "source": [
    "%run functions.py"
   ]
  },
  {
   "cell_type": "code",
   "execution_count": 82,
   "metadata": {},
   "outputs": [],
   "source": [
    "table = 'contract-explorer-233919.ethparis.functions3'\n",
    "limit = 'LIMIT 2000'\n",
    "\n",
    "df = load_from_bigquery(table, limit)"
   ]
  },
  {
   "cell_type": "code",
   "execution_count": 83,
   "metadata": {},
   "outputs": [],
   "source": [
    "target = df.hash\n",
    "trees = df.tree\n",
    "pp = Preprocess().fit_transform(trees)\n",
    "X_train, X_test, y_train, y_test = train_test_split(pp, target, test_size=0.33,random_state=42)"
   ]
  },
  {
   "cell_type": "code",
   "execution_count": 84,
   "metadata": {},
   "outputs": [],
   "source": [
    "pp = Preprocess()\n",
    "vectorizer = TfidfVectorizer(ngram_range=(1,2), max_features=1000)\n",
    "toArray = ToArray()\n",
    "pca = PCA(n_components=10)\n",
    "\n",
    "pipe = Pipeline([('vectorizer', vectorizer ),\n",
    "                ('toArray', toArray),\n",
    "                 ('pca', pca)])\n"
   ]
  },
  {
   "cell_type": "code",
   "execution_count": 85,
   "metadata": {},
   "outputs": [],
   "source": [
    "result = pipe.fit_transform(X_train)"
   ]
  },
  {
   "cell_type": "code",
   "execution_count": 86,
   "metadata": {},
   "outputs": [],
   "source": [
    "rf = RandomForestClassifier(n_estimators=50,n_jobs=-1).fit(result,y_train)"
   ]
  },
  {
   "cell_type": "code",
   "execution_count": 87,
   "metadata": {},
   "outputs": [],
   "source": [
    "###run pipeline for X_test\n",
    "result_test = pipe.transform(X_test)"
   ]
  },
  {
   "cell_type": "code",
   "execution_count": 88,
   "metadata": {},
   "outputs": [
    {
     "data": {
      "text/plain": [
       "0.2287878787878788"
      ]
     },
     "execution_count": 88,
     "metadata": {},
     "output_type": "execute_result"
    }
   ],
   "source": [
    "rf.score(result_test, y_test)"
   ]
  },
  {
   "cell_type": "code",
   "execution_count": 89,
   "metadata": {},
   "outputs": [
    {
     "data": {
      "text/plain": [
       "0.03"
      ]
     },
     "execution_count": 89,
     "metadata": {},
     "output_type": "execute_result"
    }
   ],
   "source": [
    "#dumb model - predict most common class\n",
    "target.value_counts()[0]/len(target)"
   ]
  },
  {
   "cell_type": "code",
   "execution_count": 90,
   "metadata": {},
   "outputs": [
    {
     "data": {
      "text/plain": [
       "940"
      ]
     },
     "execution_count": 90,
     "metadata": {},
     "output_type": "execute_result"
    }
   ],
   "source": [
    "#number of unique function hashes\n",
    "len(y_train.unique())"
   ]
  },
  {
   "cell_type": "code",
   "execution_count": 108,
   "metadata": {},
   "outputs": [],
   "source": [
    "n=3\n",
    "probs = rf.predict_proba(result_test)\n",
    "\n",
    "indices = np.argsort(probs, axis=1)[:,-n:]\n",
    "\n",
    "top_n_classes = rf.classes_[indices]\n",
    "\n",
    "p = copy(probs)\n",
    "p.sort(axis=1)\n",
    "top_n_probs = p[:,-n:]"
   ]
  },
  {
   "cell_type": "code",
   "execution_count": 117,
   "metadata": {},
   "outputs": [
    {
     "data": {
      "text/plain": [
       "array([['0x42966c68', '0x6623fc46', '0x3176d373'],\n",
       "       ['0x439455e4', '0x9caa9448', '0xf46a85a9'],\n",
       "       ['0x5c658165', '_fallback()', '0x58004a1d'],\n",
       "       ['0xf9d176b4', '0x1608f18f', '0x1a81af29'],\n",
       "       ['0x78bd7935', '0xbae804a7', '0x675518b8'],\n",
       "       ['0xa0e67e2b', '0x259bc6f5', '0x9b487f3f'],\n",
       "       ['0x42966c68', '0x1c223e2e', '0x97304ced'],\n",
       "       ['0x1a44731c', '0xaaa2b8c8', '0x5d6af2af'],\n",
       "       ['0x1785f53c', '0x45c8b1a6', '0x4b96b0ee'],\n",
       "       ['0x0988ca8c', '0x0913348f', '0x4eee966f']], dtype=object)"
      ]
     },
     "execution_count": 117,
     "metadata": {},
     "output_type": "execute_result"
    }
   ],
   "source": [
    "top_n_classes[0:10][:,::-1]"
   ]
  },
  {
   "cell_type": "code",
   "execution_count": 118,
   "metadata": {},
   "outputs": [
    {
     "data": {
      "text/plain": [
       "array([[0.6       , 0.04      , 0.04      ],\n",
       "       [0.42      , 0.16      , 0.04      ],\n",
       "       [1.        , 0.        , 0.        ],\n",
       "       [0.08      , 0.06      , 0.06      ],\n",
       "       [0.1       , 0.08      , 0.06      ],\n",
       "       [0.54      , 0.1       , 0.04      ],\n",
       "       [0.16      , 0.1       , 0.06      ],\n",
       "       [0.27569841, 0.23963492, 0.23715873],\n",
       "       [0.1       , 0.06      , 0.06      ],\n",
       "       [0.34      , 0.16      , 0.12      ]])"
      ]
     },
     "execution_count": 118,
     "metadata": {},
     "output_type": "execute_result"
    }
   ],
   "source": [
    "top_n_probs[0:10][:,::-1]"
   ]
  },
  {
   "cell_type": "code",
   "execution_count": 119,
   "metadata": {},
   "outputs": [
    {
     "data": {
      "text/plain": [
       "1860    0x42966c68\n",
       "353     0xc825798a\n",
       "1333    0x5c658165\n",
       "905     0x02329a29\n",
       "1289    0x82771c8e\n",
       "1273    0x3f67a94e\n",
       "938     0x4b1fb6d4\n",
       "1731    0x8da5cb5b\n",
       "65      0x70480275\n",
       "1323    0x0988ca8c\n",
       "Name: hash, dtype: object"
      ]
     },
     "execution_count": 119,
     "metadata": {},
     "output_type": "execute_result"
    }
   ],
   "source": [
    "y_test[0:10]"
   ]
  },
  {
   "cell_type": "code",
   "execution_count": 124,
   "metadata": {},
   "outputs": [],
   "source": [
    "#pickle\n",
    "pickle.dump(rf, open( \"pickle/rf.p\", \"wb\" ) )\n",
    "pickle.dump(pipe, open( \"pickle/pipe.p\", \"wb\" ) )"
   ]
  },
  {
   "cell_type": "code",
   "execution_count": null,
   "metadata": {},
   "outputs": [],
   "source": []
  }
 ],
 "metadata": {
  "kernelspec": {
   "display_name": "Python 3",
   "language": "python",
   "name": "python3"
  },
  "language_info": {
   "codemirror_mode": {
    "name": "ipython",
    "version": 3
   },
   "file_extension": ".py",
   "mimetype": "text/x-python",
   "name": "python",
   "nbconvert_exporter": "python",
   "pygments_lexer": "ipython3",
   "version": "3.7.2"
  }
 },
 "nbformat": 4,
 "nbformat_minor": 2
}
