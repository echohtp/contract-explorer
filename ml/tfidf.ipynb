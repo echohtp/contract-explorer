{
 "cells": [
  {
   "cell_type": "code",
   "execution_count": 1,
   "metadata": {},
   "outputs": [],
   "source": [
    "from copy import copy\n",
    "\n",
    "test = ['if','sth',['add',2,3]]\n",
    "example = [[\"IF\", [\"ISZERO\", [\"EQ\", [\"STORAGE\", 160, 0, 0], \"CALLER\"]], [[\"REVERT\", 0]], [[\"IF\", [\"ISZERO\", [\"EXTCODESIZE\", [\"MASK_SHL\", 160, 0, 0, [\"cd\", 4]]]], [[\"REVERT\", 0]], [[\"CALL\", [\"ADD\", -710, \"GAS\"], [\"MASK_SHL\", 160, 0, 0, [\"cd\", 4]], 0, 1981353871, 'null'], [\"IF\", [\"ISZERO\", \"ext_call.success\"], [[\"REVERT\", 0]], [[\"IF\", [\"ISZERO\", \"ext_call.return_data\"], [[\"REVERT\", 0]], [[\"STORE\", 160, 0, 12, [], [\"MASK_SHL\", 160, 0, 0, [\"cd\", 4]]], [\"STOP\"]]]]]]]]]]\n",
    "terminal = []\n",
    "\n",
    "class Node:\n",
    "\n",
    "    def __repr__(self):\n",
    "        if len(self.children) == 0:\n",
    "            return self.name\n",
    "        else:\n",
    "            return f'( {self.name} '+ (' '.join([str(c) for c in self.children]))+' )'\n",
    "\n",
    "    def __init__(self, exp, parent=None):\n",
    "        self.parent = parent\n",
    "        self.children = []\n",
    "\n",
    "        if type(exp) == list and len(exp)>0:\n",
    "            self.name = exp[0] if type(exp[0]) == str else 'list'\n",
    "            if self.name != 'list':\n",
    "                for e in exp[1:]:\n",
    "                    self.children.append(Node(e, parent=self))\n",
    "            else:\n",
    "                for e in exp:\n",
    "                    self.children.append(Node(e, parent=self))\n",
    "\n",
    "        else:\n",
    "            self.name=str(exp)\n",
    "            global terminal\n",
    "            terminal.append(self)\n",
    "\n",
    "    def downward_paths(self, max_len= None ):\n",
    "        result = []\n",
    "        vocab = set()\n",
    "\n",
    "        def dfs(node, path_so_far, ignore):\n",
    "\n",
    "            path_so_far = copy(path_so_far)\n",
    "            path_so_far.append(node.name)\n",
    "                \n",
    "            if len(node.children) == 0:\n",
    "                result = [path_so_far]\n",
    "            else:\n",
    "                result = []\n",
    "            \n",
    "            for c in node.children:\n",
    "                if c is not ignore:\n",
    "                    result.extend(dfs(c, path_so_far, node))\n",
    "\n",
    "            return result\n",
    "\n",
    "        psf = []\n",
    "        return dfs(self, psf, None)\n",
    "\n",
    "\n",
    "\n",
    "\n"
   ]
  },
  {
   "cell_type": "code",
   "execution_count": 2,
   "metadata": {},
   "outputs": [],
   "source": [
    "flatten = lambda l: [item for sublist in l for item in sublist]\n",
    "\n",
    "def preprocess(tree):\n",
    "    paths = Node(tree).downward_paths()\n",
    "    flat = flatten(paths)\n",
    "    return ' '.join(flat)\n"
   ]
  },
  {
   "cell_type": "code",
   "execution_count": 3,
   "metadata": {},
   "outputs": [],
   "source": [
    "import numpy as np\n",
    "import pandas as pd\n",
    "from sklearn.feature_extraction.text import TfidfVectorizer\n",
    "from sklearn.ensemble import RandomForestClassifier\n",
    "from sklearn.model_selection import train_test_split"
   ]
  },
  {
   "cell_type": "code",
   "execution_count": 4,
   "metadata": {},
   "outputs": [],
   "source": [
    "vectorizer = TfidfVectorizer(ngram_range=(1,2))"
   ]
  },
  {
   "cell_type": "code",
   "execution_count": 5,
   "metadata": {},
   "outputs": [],
   "source": [
    "data = pd.read_pickle('etl/dataset10.pkl')"
   ]
  },
  {
   "cell_type": "code",
   "execution_count": 6,
   "metadata": {},
   "outputs": [],
   "source": [
    "target = data.hash\n",
    "trees = data.tree"
   ]
  },
  {
   "cell_type": "code",
   "execution_count": 7,
   "metadata": {},
   "outputs": [],
   "source": [
    "features = []\n",
    "for t in trees:\n",
    "    feats = preprocess(t)\n",
    "    \n",
    "    features.append(feats)"
   ]
  },
  {
   "cell_type": "code",
   "execution_count": 8,
   "metadata": {},
   "outputs": [],
   "source": [
    "X = vectorizer.fit_transform(features)"
   ]
  },
  {
   "cell_type": "code",
   "execution_count": 9,
   "metadata": {},
   "outputs": [],
   "source": [
    "X_train, X_test, y_train, y_test = train_test_split(X, target, test_size=0.33)"
   ]
  },
  {
   "cell_type": "code",
   "execution_count": 10,
   "metadata": {},
   "outputs": [],
   "source": [
    "rf = RandomForestClassifier(n_estimators=50).fit(X_train,y_train)"
   ]
  },
  {
   "cell_type": "code",
   "execution_count": 11,
   "metadata": {},
   "outputs": [
    {
     "data": {
      "text/plain": [
       "0.18421052631578946"
      ]
     },
     "execution_count": 11,
     "metadata": {},
     "output_type": "execute_result"
    }
   ],
   "source": [
    "rf.score(X_test, y_test)"
   ]
  },
  {
   "cell_type": "code",
   "execution_count": null,
   "metadata": {},
   "outputs": [],
   "source": []
  }
 ],
 "metadata": {
  "kernelspec": {
   "display_name": "Python 3",
   "language": "python",
   "name": "python3"
  },
  "language_info": {
   "codemirror_mode": {
    "name": "ipython",
    "version": 3
   },
   "file_extension": ".py",
   "mimetype": "text/x-python",
   "name": "python",
   "nbconvert_exporter": "python",
   "pygments_lexer": "ipython3",
   "version": "3.7.2"
  }
 },
 "nbformat": 4,
 "nbformat_minor": 2
}
