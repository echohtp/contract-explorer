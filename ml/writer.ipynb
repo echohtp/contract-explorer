{
 "cells": [
  {
   "cell_type": "code",
   "execution_count": 51,
   "metadata": {},
   "outputs": [
    {
     "name": "stdout",
     "output_type": "stream",
     "text": [
      "Overwriting servemodel.py\n"
     ]
    }
   ],
   "source": [
    "%%writefile servemodel.py\n",
    "\n",
    "\n",
    "#given a tree and pickled model, predict top N probabilities and classes\n",
    "from functions import *\n",
    "\n",
    "#unpickle processing pipeline and model\n",
    "rf = pd.read_pickle('pickle/rf.p')\n",
    "pipe = pd.read_pickle('pickle/pipe.p')\n",
    "\n",
    "#example data\n",
    "example = [[\"IF\", [\"ISZERO\", [\"EQ\", [\"STORAGE\", 160, 0, 0], \"CALLER\"]], [[\"REVERT\", 0]], [[\"IF\", [\"ISZERO\", [\"EXTCODESIZE\", [\"MASK_SHL\", 160, 0, 0, [\"cd\", 4]]]], [[\"REVERT\", 0]], [[\"CALL\", [\"ADD\", -710, \"GAS\"], [\"MASK_SHL\", 160, 0, 0, [\"cd\", 4]], 0, 1981353871, 'null'], [\"IF\", [\"ISZERO\", \"ext_call.success\"], [[\"REVERT\", 0]], [[\"IF\", [\"ISZERO\", \"ext_call.return_data\"], [[\"REVERT\", 0]], [[\"STORE\", 160, 0, 12, [], [\"MASK_SHL\", 160, 0, 0, [\"cd\", 4]]], [\"STOP\"]]]]]]]]]]\n",
    "\n",
    "def predict_model(tree, N=3):\n",
    "    '''\n",
    "    Input: JSON tree, N\n",
    "    Output: Top N probabilities, Top N classes (lists)'''\n",
    "    \n",
    "    #run data preprocessing pipeline\n",
    "    pp = Preprocess().fit_transform(tree)\n",
    "    result_test = pipe.transform(pp)\n",
    "    \n",
    "    #make prediction, sort indices by highest probability\n",
    "    probs = rf.predict_proba(result_test)\n",
    "    indices = np.argsort(probs, axis=1)[:,-N:]\n",
    "    p = copy(probs)\n",
    "    p.sort(axis=1)\n",
    "    \n",
    "    #sort in reverse order, flatten to 1D array (don't do flatten if predicting multiple points at once)\n",
    "    top_n_probs = p[:,-N:][:,::-1].flatten()\n",
    "    top_n_classes = rf.classes_[indices][:,::-1].flatten()\n",
    "    \n",
    "    return list(top_n_probs), list(top_n_classes)\n",
    "\n",
    "\n",
    "print(predict_model(example, N=3))"
   ]
  },
  {
   "cell_type": "code",
   "execution_count": 52,
   "metadata": {},
   "outputs": [
    {
     "name": "stdout",
     "output_type": "stream",
     "text": [
      "([0.3, 0.06, 0.06], ['0x2e1a7d4d', '0x9aae82c1', '0x1927a754'])\n"
     ]
    }
   ],
   "source": [
    "!python servemodel.py"
   ]
  },
  {
   "cell_type": "code",
   "execution_count": null,
   "metadata": {},
   "outputs": [],
   "source": []
  }
 ],
 "metadata": {
  "kernelspec": {
   "display_name": "Python 3",
   "language": "python",
   "name": "python3"
  },
  "language_info": {
   "codemirror_mode": {
    "name": "ipython",
    "version": 3
   },
   "file_extension": ".py",
   "mimetype": "text/x-python",
   "name": "python",
   "nbconvert_exporter": "python",
   "pygments_lexer": "ipython3",
   "version": "3.7.2"
  }
 },
 "nbformat": 4,
 "nbformat_minor": 2
}
